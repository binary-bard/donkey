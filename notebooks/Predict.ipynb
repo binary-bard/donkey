{
 "cells": [
  {
   "cell_type": "code",
   "execution_count": null,
   "metadata": {},
   "outputs": [],
   "source": [
    "from __future__ import print_function\n",
    "import numpy as np\n",
    "np.random.seed(1337)  # for reproducibility\n",
    "from keras.models import Sequential\n",
    "from keras.layers import Dense, Dropout, Activation, Flatten\n",
    "from keras.layers import Conv2D, MaxPooling2D\n",
    "from keras.preprocessing.image import ImageDataGenerator\n",
    "from keras.models import load_model\n",
    "from keras import backend as K\n",
    "\n",
    "import matplotlib.pyplot as plt\n",
    "import scipy.misc"
   ]
  },
  {
   "cell_type": "code",
   "execution_count": null,
   "metadata": {
    "collapsed": true
   },
   "outputs": [],
   "source": [
    "img_width = 160\n",
    "img_height = 120\n",
    "image_size=(img_height, img_width)\n",
    "if K.image_data_format() == 'channels_first':\n",
    "    input_shape = (3, img_height, img_width)\n",
    "else:\n",
    "    input_shape = (img_height, img_width, 3)\n"
   ]
  },
  {
   "cell_type": "code",
   "execution_count": null,
   "metadata": {},
   "outputs": [],
   "source": [
    "datadir = 'Jun21'\n",
    "idx = '1'\n",
    "model_file = 'models/out15_' + datadir + '_' + idx + '.h5'\n",
    "try:\n",
    "    model = load_model(model_file)\n",
    "    print('Model loaded')\n",
    "    model.summary()\n",
    "except:\n",
    "    print('Unable to load model')"
   ]
  },
  {
   "cell_type": "code",
   "execution_count": null,
   "metadata": {},
   "outputs": [],
   "source": [
    "#Test generator\n",
    "test_datagen = ImageDataGenerator(rescale=1./255)\n",
    "test_generator = test_datagen.flow_from_directory(\n",
    "        datadir + '/test',\n",
    "        target_size=image_size,\n",
    "        batch_size=20,\n",
    "        class_mode=None)\n",
    "\n",
    "# Python2 uses iteritems() while Python3 uses items()\n",
    "dmap = {'left30_leftout': 6, 'left30_leftin': 5, 'center_rightout': 4, 'left30_rightout': 9, 'center_leftin': 0, 'right30_leftout': 11, 'right30_leftin': 10, 'right30_rightin': 13, 'left30_middle': 7, 'center_middle': 2, 'right30_middle': 12, 'left30_rightin': 8, 'center_rightin': 3, 'center_leftout': 1, 'right30_rightout': 14}\n",
    "inv_map = {v: k for k, v in dmap.items()}\n",
    "\n",
    "print('test data generator ready')"
   ]
  },
  {
   "cell_type": "code",
   "execution_count": null,
   "metadata": {},
   "outputs": [],
   "source": [
    "#print(inv_map[11])\n",
    "batch_X = test_generator.next()\n",
    "batch_y = model.predict_on_batch(batch_X)\n",
    "print(batch_y)"
   ]
  },
  {
   "cell_type": "code",
   "execution_count": null,
   "metadata": {
    "collapsed": true
   },
   "outputs": [],
   "source": [
    "notDone = True\n",
    "i = 0\n",
    "axis_font = {'size':'48'}\n",
    "while(notDone):\n",
    "  batch_X = test_generator.next()\n",
    "  print(batch_X)\n",
    "  batch_y = model.predict_on_batch(batch_X)\n",
    "  print(batch_y)\n",
    "  j = 0\n",
    "  f, axarr = plt.subplots(5, 4, figsize=(80, 60))\n",
    "  for (X, y) in zip(batch_X, batch_y):\n",
    "    #ax = plt.subplot(gl[j, i])\n",
    "    k = j % 5\n",
    "    l = j // 5\n",
    "    print(k, l)\n",
    "    axarr[k, l].imshow(X)\n",
    "    idx = np.argmax(y)\n",
    "    txt = inv_map[idx] + ', ' + str(round(y[idx], 2))\n",
    "    axarr[k, l].text(0, 0, txt, **axis_font)\n",
    "    j += 1\n",
    "    if j >= 20:\n",
    "      break\n",
    "    #print(y)\n",
    "    #pause\n",
    "  i += 1\n",
    "  notDone = i < 5\n",
    "  plt.show()\n"
   ]
  },
  {
   "cell_type": "code",
   "execution_count": null,
   "metadata": {
    "collapsed": true
   },
   "outputs": [],
   "source": []
  }
 ],
 "metadata": {
  "kernelspec": {
   "display_name": "Python 3",
   "language": "python",
   "name": "python3"
  },
  "language_info": {
   "codemirror_mode": {
    "name": "ipython",
    "version": 3
   },
   "file_extension": ".py",
   "mimetype": "text/x-python",
   "name": "python",
   "nbconvert_exporter": "python",
   "pygments_lexer": "ipython3",
   "version": "3.5.2"
  }
 },
 "nbformat": 4,
 "nbformat_minor": 1
}
